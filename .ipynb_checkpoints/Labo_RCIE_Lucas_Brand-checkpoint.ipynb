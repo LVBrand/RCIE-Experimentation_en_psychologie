{
 "cells": [
  {
   "cell_type": "markdown",
   "id": "73de9201",
   "metadata": {},
   "source": [
    "# Labo RCIE - Exemple d'expérimentation en psychologie"
   ]
  },
  {
   "cell_type": "markdown",
   "id": "b1f87dbf",
   "metadata": {},
   "source": [
    "### Question 1 et 2"
   ]
  },
  {
   "cell_type": "code",
   "execution_count": 129,
   "id": "2898742d",
   "metadata": {},
   "outputs": [],
   "source": [
    "import matplotlib\n",
    "import matplotlib.pyplot as plt\n",
    "import numpy as np\n",
    "\n",
    "def afficheResult(file, angle_or_duration=0):\n",
    "    num,time,angle,duration,errorX,errorY=[],[],[],[],[],[]\n",
    "    with open(file, 'r') as f:\n",
    "        ligne = f.readline()\n",
    "        ligne = f.readline()\n",
    "        while(ligne):\n",
    "            #ligne = f.readline()\n",
    "            n,t,a,d,eX,eY=ligne.split(';')\n",
    "            num.append(int(n))\n",
    "            time.append(float(t))\n",
    "            duration.append(float(d))\n",
    "            angle.append(float(a))\n",
    "            errorX.append(float(eX))\n",
    "            errorY.append(float(eY)*float(eY))\n",
    "            ligne=f.readline()\n",
    "            \n",
    "    data = [num,time,angle,duration,errorX,errorY]\n",
    "    data = sorted(zip(*data), key=lambda args: args[2+angle_or_duration])\n",
    "    data = list(zip(*data))\n",
    "    \n",
    "    ###################################################\n",
    "    ### QUESTION - 2 ##################################\n",
    "    ###################################################\n",
    "    \n",
    "    # Moyenne\n",
    "    y_moyenne = np.mean(errorY)\n",
    "    print(\"Moyenne : \", y_moyenne)\n",
    "    \n",
    "    # Médiane\n",
    "    y_mediane = np.median(errorY)\n",
    "    print(\"Médiane : \", y_mediane)\n",
    "    \n",
    "    # Variance\n",
    "    y_variance = np.var(errorY)\n",
    "    print(\"Variance : \", y_variance)\n",
    "    \n",
    "    # Ecart-type\n",
    "    y_ecart_type = np.std(errorY)\n",
    "    print(\"Écart-type : \", y_ecart_type)\n",
    "    \n",
    "    # Coefficient de variation (écart-type / moyenne)\n",
    "    y_coef_var = y_ecart_type / y_moyenne\n",
    "    print(\"Coefficient de variation : \", y_coef_var)\n",
    "    \n",
    "    ###################################################\n",
    "    ### QUESTION - 3 ##################################\n",
    "    ###################################################\n",
    "    \n",
    "    # Modèle augmenté\n",
    "    \n",
    "    # Si l'angle varie (A)\n",
    "    if (angle_or_duration==0):\n",
    "        alpha_moy = np.mean(angle)\n",
    "        b1_num, b1_denum, b1 = 0, 0, 0\n",
    "        b0 = 0\n",
    "        # calcul de b1\n",
    "        for i in range(0, len(errorY)):\n",
    "            b1_num += (angle[i] - alpha_moy)*(errorY[i] - y_moyenne) \n",
    "            b1_denum += ((angle[i] - alpha_moy)**2)\n",
    "            b1 = b1_num / b1_denum\n",
    "            \n",
    "        # calcul de b0  \n",
    "        b0 = y_moyenne - (b1*alpha_moy)\n",
    "            \n",
    "        print(\"b1 : \", b1)\n",
    "        print(\"b0 : \", b0)\n",
    "        \n",
    "    # Si la durée varie (B)\n",
    "    if (angle_or_duration!=0):\n",
    "        alpha_moy = np.mean(duration)\n",
    "        b1_num, b1_denum, b1 = 0, 0, 0\n",
    "        b0 = 0\n",
    "        # calcul de b1\n",
    "        for i in range(0, len(errorY)):\n",
    "            b1_num += (duration[i] - alpha_moy)*(errorY[i] - y_moyenne) \n",
    "            b1_denum += ((duration[i] - alpha_moy)**2)\n",
    "            b1 = b1_num / b1_denum\n",
    "            \n",
    "        # calcul de b0  \n",
    "        b0 = y_moyenne - (b1*alpha_moy)\n",
    "            \n",
    "        print(\"b1 : \", b1)\n",
    "        print(\"b0 : \", b0)\n",
    "        \n",
    "    # Moyenne du carré des erreurs de prédiction\n",
    "    \n",
    "    \n",
    "    \n",
    "    plt.plot(data[2+angle_or_duration],errorY,\"g+\")\n",
    "    plt.xlabel((\"angle\", \"duration\")[angle_or_duration])\n",
    "    plt.ylabel(\"errorY^2\")\n",
    "    plt.show()"
   ]
  },
  {
   "cell_type": "code",
   "execution_count": 130,
   "id": "8f1d218b",
   "metadata": {},
   "outputs": [
    {
     "name": "stdout",
     "output_type": "stream",
     "text": [
      "Moyenne :  0.012036694459884345\n",
      "Médiane :  0.003492664061962824\n",
      "Variance :  0.0004915931402487739\n",
      "Écart-type :  0.02217189978889436\n",
      "Coefficient de variation :  1.8420256377519948\n",
      "b1 :  0.017089907469603764\n",
      "b0 :  -0.0007589160847633093\n"
     ]
    },
    {
     "data": {
      "image/png": "[encoded data removed]",
      "text/plain": [
       "<Figure size 432x288 with 1 Axes>"
      ]
     },
     "metadata": {
      "needs_background": "light"
     },
     "output_type": "display_data"
    }
   ],
   "source": [
    "# A (10) : Variation angle avec durée fixe\n",
    "afficheResult('.\\data\\expePsychoResults_1_10.csv')"
   ]
  },
  {
   "cell_type": "code",
   "execution_count": 131,
   "id": "b6d6150c",
   "metadata": {},
   "outputs": [
    {
     "name": "stdout",
     "output_type": "stream",
     "text": [
      "Moyenne :  0.022647684941430074\n",
      "Médiane :  0.00339138373662498\n",
      "Variance :  0.004900040165912423\n",
      "Écart-type :  0.07000028689878651\n",
      "Coefficient de variation :  3.0908363075438645\n",
      "b1 :  0.06346441567232794\n",
      "b0 :  -0.0265027895964199\n"
     ]
    },
    {
     "data": {
      "image/png": "[encoded data removed]",
      "text/plain": [
       "<Figure size 432x288 with 1 Axes>"
      ]
     },
     "metadata": {
      "needs_background": "light"
     },
     "output_type": "display_data"
    }
   ],
   "source": [
    "# A (100) : Variation angle avec durée fixe\n",
    "afficheResult('.\\data\\expePsychoResults_1_100.csv')"
   ]
  },
  {
   "cell_type": "code",
   "execution_count": 132,
   "id": "5be2d5cc",
   "metadata": {},
   "outputs": [
    {
     "name": "stdout",
     "output_type": "stream",
     "text": [
      "Moyenne :  0.2964838450471588\n",
      "Médiane :  0.012531097901718214\n",
      "Variance :  0.5108666584094887\n",
      "Écart-type :  0.7147493675474563\n",
      "Coefficient de variation :  2.4107531640847686\n",
      "b1 :  0.0011503215237515828\n",
      "b0 :  -0.014780022316887964\n"
     ]
    },
    {
     "data": {
      "image/png": "[encoded data removed]",
      "text/plain": [
       "<Figure size 432x288 with 1 Axes>"
      ]
     },
     "metadata": {
      "needs_background": "light"
     },
     "output_type": "display_data"
    }
   ],
   "source": [
    "# B (10) : Variation durée avec angle fixe\n",
    "afficheResult('.\\data\\expePsychoResults_2_10.csv', 1)"
   ]
  },
  {
   "cell_type": "code",
   "execution_count": 133,
   "id": "8fe4e5e1",
   "metadata": {},
   "outputs": [
    {
     "name": "stdout",
     "output_type": "stream",
     "text": [
      "Moyenne :  0.12271462349568367\n",
      "Médiane :  0.005753701793840101\n",
      "Variance :  0.21914390214126622\n",
      "Écart-type :  0.4681280830512801\n",
      "Coefficient de variation :  3.814770153027002\n",
      "b1 :  -0.0005623579984129153\n",
      "b0 :  0.2812895809814429\n"
     ]
    },
    {
     "data": {
      "image/png": "[encoded data removed]",
      "text/plain": [
       "<Figure size 432x288 with 1 Axes>"
      ]
     },
     "metadata": {
      "needs_background": "light"
     },
     "output_type": "display_data"
    }
   ],
   "source": [
    "# B (100) Variation durée avec angle fixe\n",
    "afficheResult('.\\data\\expePsychoResults_2_100.csv', 1)"
   ]
  },
  {
   "cell_type": "markdown",
   "id": "584df9c0",
   "metadata": {},
   "source": [
    "### Question 2 - Conclusion"
   ]
  },
  {
   "cell_type": "markdown",
   "id": "3086b11d",
   "metadata": {},
   "source": [
    "Hypothèse nulle : l'angle d'inclinaison n'a pas d'influence sur la précision de repositionnement.\n",
    "Expérience A (100) : angle d'inclinaison variable et durée fixe.\n",
    "- Moyenne :  0.022647684941430074\n",
    "- Médiane :  0.00339138373662498\n",
    "- Variance :  0.004900040165912423\n",
    "- Écart-type :  0.07000028689878651\n",
    "- Coefficient de variation :  3.0908363075438645\n",
    "\n",
    "Expérience B (100) : angle d'inclinaison fixe et durée variable.\n",
    "- Moyenne :  0.12271462349568367\n",
    "- Médiane :  0.005753701793840101\n",
    "- Variance :  0.21914390214126622\n",
    "- Écart-type :  0.4681280830512801\n",
    "- Coefficient de variation :  3.814770153027002\n",
    "\n",
    "Généralement, on remarque que : \n",
    "- Un plus grand nombre d'essais implique un plus grand coef de variation.\n",
    "\n",
    "En observant les résultats des deux expériences avec chacune 100 essais, on remarque :\n",
    "- Toutes les stats (moy, med, var, std, coef) de l'expérience A sont plus bas que l'expérience B. Donc, on peut dire que l'expérience A a de meilleurs résultats que B.\n",
    "- On ne peut pas dire si c'est l'inclinaison ou la durée qui influe sur les paramètres, cela dit on remarque que l'influence de la durée est plus grande que celle de l'inclinaison. En effet, à durée fixe, quand on change l'angle d'inclinaison, on a de meilleurs résultats que lorsqu'on change la durée pour un angle d'inclinaison fixe.\n"
   ]
  },
  {
   "cell_type": "markdown",
   "id": "b2014cbb",
   "metadata": {},
   "source": [
    "### Question 3"
   ]
  },
  {
   "cell_type": "code",
   "execution_count": null,
   "id": "0690132a",
   "metadata": {},
   "outputs": [],
   "source": [
    "arrivé question 3 (tout en bas)"
   ]
  },
  {
   "cell_type": "code",
   "execution_count": null,
   "id": "e9be8bb7",
   "metadata": {},
   "outputs": [],
   "source": []
  },
  {
   "cell_type": "code",
   "execution_count": null,
   "id": "7da29c39",
   "metadata": {},
   "outputs": [],
   "source": []
  },
  {
   "cell_type": "code",
   "execution_count": null,
   "id": "94cef537",
   "metadata": {},
   "outputs": [],
   "source": []
  },
  {
   "cell_type": "code",
   "execution_count": null,
   "id": "be0c144b",
   "metadata": {},
   "outputs": [],
   "source": []
  },
  {
   "cell_type": "code",
   "execution_count": null,
   "id": "b2e30c36",
   "metadata": {},
   "outputs": [],
   "source": []
  },
  {
   "cell_type": "code",
   "execution_count": null,
   "id": "5d11030c",
   "metadata": {},
   "outputs": [],
   "source": []
  },
  {
   "cell_type": "code",
   "execution_count": null,
   "id": "660ea208",
   "metadata": {},
   "outputs": [],
   "source": []
  }
 ],
 "metadata": {
  "kernelspec": {
   "display_name": "Python 3.8 (tensorflow 2.3)",
   "language": "python",
   "name": "tensorflow"
  },
  "language_info": {
   "codemirror_mode": {
    "name": "ipython",
    "version": 3
   },
   "file_extension": ".py",
   "mimetype": "text/x-python",
   "name": "python",
   "nbconvert_exporter": "python",
   "pygments_lexer": "ipython3",
   "version": "3.8.11"
  }
 },
 "nbformat": 4,
 "nbformat_minor": 5
}
